{
 "cells": [
  {
   "cell_type": "code",
   "execution_count": 2,
   "id": "a35dfa0f-003c-4e0d-bd39-cf81508f29b7",
   "metadata": {
    "tags": []
   },
   "outputs": [],
   "source": [
    "# Importing standard Qiskit libraries\n",
    "from qiskit import QuantumCircuit, transpile\n",
    "from qiskit.tools.jupyter import *\n",
    "from qiskit.visualization import *\n",
    "from ibm_quantum_widgets import *\n",
    "from qiskit_aer import AerSimulator\n",
    "\n",
    "# qiskit-ibmq-provider has been deprecated.\n",
    "# Please see the Migration Guides in https://ibm.biz/provider_migration_guide for more detail.\n",
    "from qiskit_ibm_runtime import QiskitRuntimeService, Sampler, Estimator, Session, Options\n",
    "\n",
    "# Loading your IBM Quantum account(s)\n",
    "service = QiskitRuntimeService(channel=\"ibm_quantum\")\n",
    "\n",
    "# Invoke a primitive inside a session. For more details see https://qiskit.org/documentation/partners/qiskit_ibm_runtime/tutorials.html\n",
    "# with Session(backend=service.backend(\"ibmq_qasm_simulator\")):\n",
    "#     result = Sampler().run(circuits).result()"
   ]
  },
  {
   "cell_type": "code",
   "execution_count": 25,
   "id": "2a91c00d-2f53-4727-a722-be08543f6327",
   "metadata": {
    "tags": []
   },
   "outputs": [
    {
     "name": "stderr",
     "output_type": "stream",
     "text": [
      "/tmp/ipykernel_61/1755479642.py:18: DeprecationWarning: The class ``qiskit.utils.quantum_instance.QuantumInstance`` is deprecated as of qiskit-terra 0.24.0. It will be removed no earlier than 3 months after the release date. For code migration guidelines, visit https://qisk.it/qi_migration.\n",
      "  quantum_instance = QuantumInstance(Aer.get_backend('statevector_simulator'))\n",
      "/opt/conda/lib/python3.10/site-packages/sklearn/preprocessing/_encoders.py:828: FutureWarning: `sparse` was renamed to `sparse_output` in version 1.2 and will be removed in 1.4. `sparse_output` is ignored unless you leave `sparse` to its default value.\n",
      "  warnings.warn(\n"
     ]
    },
    {
     "name": "stdout",
     "output_type": "stream",
     "text": [
      "Predicted Labels: Effective\n"
     ]
    }
   ],
   "source": [
    "# Import necessary libraries\n",
    "import numpy as np\n",
    "from qiskit import Aer\n",
    "from qiskit.circuit.library import ZZFeatureMap\n",
    "from qiskit.utils import QuantumInstance\n",
    "from qiskit_machine_learning.algorithms import VQC\n",
    "from qiskit.algorithms.optimizers import COBYLA\n",
    "from qiskit.circuit.library import TwoLocal\n",
    "\n",
    "# Define your quantum feature map\n",
    "feature_map = ZZFeatureMap(feature_dimension=2, reps=2)\n",
    "\n",
    "# Define your variational form\n",
    "ansatz = TwoLocal(2, ['ry', 'rz'], 'cz', reps=3)\n",
    "\n",
    "\n",
    "# Define your quantum instance\n",
    "quantum_instance = QuantumInstance(Aer.get_backend('statevector_simulator'))\n",
    "\n",
    "# Define your classical optimizer\n",
    "optimizer = COBYLA(maxiter=100)\n",
    "\n",
    "# Define your quantum machine learning model\n",
    "num_qubits = 2\n",
    "model = VQC(num_qubits=num_qubits, optimizer=optimizer, feature_map=feature_map, ansatz=ansatz, quantum_instance=quantum_instance)\n",
    "# Define your training data\n",
    "training_data = np.array([[0.1, 0.2], [0.3, 0.4], [0.5, 0.6]])\n",
    "labels = np.array([0, 1, 2])  # Map \"Not Effective\" to 0, \"Effective\" to 1, and \"Highly Effective\" to 2\n",
    "\n",
    "# Train the model\n",
    "model.fit(training_data, labels)\n",
    "\n",
    "# Define new data for prediction\n",
    "new_data = np.array([[0.31, 0.45]])\n",
    "\n",
    "# Make predictions on new data\n",
    "predicted_labels = model.predict(new_data)\n",
    "predicted_labels = np.where(predicted_labels == 0, \"Not Effective\", np.where(predicted_labels == 1, \"Effective\", \"Highly Effective\"))\n",
    "\n",
    "\n",
    "\n",
    "print('Predicted Labels:', predicted_labels)"
   ]
  },
  {
   "cell_type": "code",
   "execution_count": 22,
   "id": "4bf416c7-5312-4555-b45d-07d12d10ddb0",
   "metadata": {
    "tags": []
   },
   "outputs": [
    {
     "name": "stdout",
     "output_type": "stream",
     "text": [
      "     ┌───┐┌─────────────┐                                          ┌───┐»\n",
      "q_0: ┤ H ├┤ P(2.0*x[0]) ├──■────────────────────────────────────■──┤ H ├»\n",
      "     ├───┤├─────────────┤┌─┴─┐┌──────────────────────────────┐┌─┴─┐├───┤»\n",
      "q_1: ┤ H ├┤ P(2.0*x[1]) ├┤ X ├┤ P(2.0*(π - x[0])*(π - x[1])) ├┤ X ├┤ H ├»\n",
      "     └───┘└─────────────┘└───┘└──────────────────────────────┘└───┘└───┘»\n",
      "«     ┌─────────────┐                                          ┌──────────┐»\n",
      "«q_0: ┤ P(2.0*x[0]) ├──■────────────────────────────────────■──┤ Ry(θ[0]) ├»\n",
      "«     ├─────────────┤┌─┴─┐┌──────────────────────────────┐┌─┴─┐├──────────┤»\n",
      "«q_1: ┤ P(2.0*x[1]) ├┤ X ├┤ P(2.0*(π - x[0])*(π - x[1])) ├┤ X ├┤ Ry(θ[1]) ├»\n",
      "«     └─────────────┘└───┘└──────────────────────────────┘└───┘└──────────┘»\n",
      "«     ┌──────────┐   ┌──────────┐┌──────────┐   ┌──────────┐┌───────────┐   »\n",
      "«q_0: ┤ Rz(θ[2]) ├─■─┤ Ry(θ[4]) ├┤ Rz(θ[6]) ├─■─┤ Ry(θ[8]) ├┤ Rz(θ[10]) ├─■─»\n",
      "«     ├──────────┤ │ ├──────────┤├──────────┤ │ ├──────────┤├───────────┤ │ »\n",
      "«q_1: ┤ Rz(θ[3]) ├─■─┤ Ry(θ[5]) ├┤ Rz(θ[7]) ├─■─┤ Ry(θ[9]) ├┤ Rz(θ[11]) ├─■─»\n",
      "«     └──────────┘   └──────────┘└──────────┘   └──────────┘└───────────┘   »\n",
      "«     ┌───────────┐┌───────────┐\n",
      "«q_0: ┤ Ry(θ[12]) ├┤ Rz(θ[14]) ├\n",
      "«     ├───────────┤├───────────┤\n",
      "«q_1: ┤ Ry(θ[13]) ├┤ Rz(θ[15]) ├\n",
      "«     └───────────┘└───────────┘\n"
     ]
    }
   ],
   "source": [
    "from qiskit import transpile\n",
    "\n",
    "# Transpile the quantum circuit representing the model\n",
    "circuit = transpile(model.circuit, quantum_instance.backend)\n",
    "\n",
    "# Draw the transpiled circuit\n",
    "print(circuit)"
   ]
  },
  {
   "cell_type": "code",
   "execution_count": null,
   "id": "e8c4abca-a2ab-4f26-945a-987680849ddf",
   "metadata": {},
   "outputs": [],
   "source": []
  }
 ],
 "metadata": {
  "kernelspec": {
   "display_name": "Python 3 (ipykernel)",
   "language": "python",
   "name": "python3"
  },
  "language_info": {
   "codemirror_mode": {
    "name": "ipython",
    "version": 3
   },
   "file_extension": ".py",
   "mimetype": "text/x-python",
   "name": "python",
   "nbconvert_exporter": "python",
   "pygments_lexer": "ipython3",
   "version": "3.10.8"
  },
  "widgets": {
   "application/vnd.jupyter.widget-state+json": {
    "state": {
     "04f736399cb74e7a94f022a6c84d1fe8": {
      "model_module": "@jupyter-widgets/base",
      "model_module_version": "2.0.0",
      "model_name": "LayoutModel",
      "state": {
       "margin": "0px 0px 0px 37px",
       "width": "600px"
      }
     },
     "189827c7d9e04bcfbf1d550d70012463": {
      "model_module": "@jupyter-widgets/base",
      "model_module_version": "2.0.0",
      "model_name": "LayoutModel",
      "state": {}
     },
     "2c9c5202ad4c4ca8a28b6df84bbc0bec": {
      "model_module": "@jupyter-widgets/controls",
      "model_module_version": "2.0.0",
      "model_name": "HTMLModel",
      "state": {
       "layout": "IPY_MODEL_7e045daf4ad54c09b223d92ad66c5996",
       "style": "IPY_MODEL_fc548f5c96624c51a9b08d0c9b2222ca",
       "value": "<h5>Status</h5>"
      }
     },
     "3e6aeeb4ab7848e093fc021361e9a10f": {
      "model_module": "@jupyter-widgets/controls",
      "model_module_version": "2.0.0",
      "model_name": "ButtonStyleModel",
      "state": {
       "font_family": null,
       "font_size": null,
       "font_style": null,
       "font_variant": null,
       "font_weight": null,
       "text_color": null,
       "text_decoration": null
      }
     },
     "44fd64b53fae40f899030b78c356949f": {
      "model_module": "@jupyter-widgets/controls",
      "model_module_version": "2.0.0",
      "model_name": "HTMLModel",
      "state": {
       "layout": "IPY_MODEL_ee7708676e36463b962f554e6f2cf4cf",
       "style": "IPY_MODEL_9c7db2be945540209d0421ac8455769f",
       "value": "<h5>Queue</h5>"
      }
     },
     "4586c92fa24941a7a83025a12a3b0a99": {
      "model_module": "@jupyter-widgets/base",
      "model_module_version": "2.0.0",
      "model_name": "LayoutModel",
      "state": {
       "grid_area": "right",
       "padding": "0px 0px 0px 0px",
       "width": "70px"
      }
     },
     "62b7719b30754632a884aa95579d409e": {
      "model_module": "@jupyter-widgets/controls",
      "model_module_version": "2.0.0",
      "model_name": "HTMLStyleModel",
      "state": {
       "description_width": "",
       "font_size": null,
       "text_color": null
      }
     },
     "6b23432e73594818a8f61554271f01f8": {
      "model_module": "@jupyter-widgets/controls",
      "model_module_version": "2.0.0",
      "model_name": "HBoxModel",
      "state": {
       "children": [
        "IPY_MODEL_858a3f0f6b1e47ecb472f299e8b6cdc6",
        "IPY_MODEL_b27f760912d240bf850d2574ac5f20c1",
        "IPY_MODEL_2c9c5202ad4c4ca8a28b6df84bbc0bec",
        "IPY_MODEL_44fd64b53fae40f899030b78c356949f",
        "IPY_MODEL_8e2a92c92c8746d98a41cff587adbe4b"
       ],
       "layout": "IPY_MODEL_04f736399cb74e7a94f022a6c84d1fe8"
      }
     },
     "747f258dd84248a88ac56df6c348d2c2": {
      "model_module": "@jupyter-widgets/base",
      "model_module_version": "2.0.0",
      "model_name": "LayoutModel",
      "state": {
       "margin": "0px 0px 10px 0px"
      }
     },
     "74e25fdefba84706bd1ebd991603102a": {
      "model_module": "@jupyter-widgets/controls",
      "model_module_version": "2.0.0",
      "model_name": "ButtonModel",
      "state": {
       "button_style": "primary",
       "description": "Clear",
       "layout": "IPY_MODEL_4586c92fa24941a7a83025a12a3b0a99",
       "style": "IPY_MODEL_3e6aeeb4ab7848e093fc021361e9a10f",
       "tooltip": null
      }
     },
     "7e045daf4ad54c09b223d92ad66c5996": {
      "model_module": "@jupyter-widgets/base",
      "model_module_version": "2.0.0",
      "model_name": "LayoutModel",
      "state": {
       "width": "95px"
      }
     },
     "8254783d65d74d7daf85a2ff1187f5ac": {
      "model_module": "@jupyter-widgets/controls",
      "model_module_version": "2.0.0",
      "model_name": "HTMLModel",
      "state": {
       "layout": "IPY_MODEL_747f258dd84248a88ac56df6c348d2c2",
       "style": "IPY_MODEL_ce9b0a9911f94452ace0aa409bb9e2e5",
       "value": "<p style='font-family: IBM Plex Sans, Arial, Helvetica, sans-serif; font-size: 20px; font-weight: medium;'>Circuit Properties</p>"
      }
     },
     "850e1419963845949f2a43505f835ea3": {
      "model_module": "@jupyter-widgets/controls",
      "model_module_version": "2.0.0",
      "model_name": "HTMLStyleModel",
      "state": {
       "description_width": "",
       "font_size": null,
       "text_color": null
      }
     },
     "858a3f0f6b1e47ecb472f299e8b6cdc6": {
      "model_module": "@jupyter-widgets/controls",
      "model_module_version": "2.0.0",
      "model_name": "HTMLModel",
      "state": {
       "layout": "IPY_MODEL_f058675bd6864ab49a746c8e0f1e34a5",
       "style": "IPY_MODEL_62b7719b30754632a884aa95579d409e",
       "value": "<h5>Job ID</h5>"
      }
     },
     "8e2a92c92c8746d98a41cff587adbe4b": {
      "model_module": "@jupyter-widgets/controls",
      "model_module_version": "2.0.0",
      "model_name": "HTMLModel",
      "state": {
       "layout": "IPY_MODEL_189827c7d9e04bcfbf1d550d70012463",
       "style": "IPY_MODEL_b8efcc003d9943e2887f43c9e0e805a7",
       "value": "<h5>Message</h5>"
      }
     },
     "9c7db2be945540209d0421ac8455769f": {
      "model_module": "@jupyter-widgets/controls",
      "model_module_version": "2.0.0",
      "model_name": "HTMLStyleModel",
      "state": {
       "description_width": "",
       "font_size": null,
       "text_color": null
      }
     },
     "b0cb2a5574ca4caab353425482462166": {
      "model_module": "@jupyter-widgets/base",
      "model_module_version": "2.0.0",
      "model_name": "LayoutModel",
      "state": {
       "width": "145px"
      }
     },
     "b27f760912d240bf850d2574ac5f20c1": {
      "model_module": "@jupyter-widgets/controls",
      "model_module_version": "2.0.0",
      "model_name": "HTMLModel",
      "state": {
       "layout": "IPY_MODEL_b0cb2a5574ca4caab353425482462166",
       "style": "IPY_MODEL_850e1419963845949f2a43505f835ea3",
       "value": "<h5>Backend</h5>"
      }
     },
     "b8efcc003d9943e2887f43c9e0e805a7": {
      "model_module": "@jupyter-widgets/controls",
      "model_module_version": "2.0.0",
      "model_name": "HTMLStyleModel",
      "state": {
       "description_width": "",
       "font_size": null,
       "text_color": null
      }
     },
     "bd24c4e0c8de4425ac8de6480d45e8a3": {
      "model_module": "@jupyter-widgets/base",
      "model_module_version": "2.0.0",
      "model_name": "LayoutModel",
      "state": {
       "grid_template_areas": "\n                                       \". . . . right \"\n                                        ",
       "grid_template_columns": "20% 20% 20% 20% 20%",
       "width": "100%"
      }
     },
     "ce9b0a9911f94452ace0aa409bb9e2e5": {
      "model_module": "@jupyter-widgets/controls",
      "model_module_version": "2.0.0",
      "model_name": "HTMLStyleModel",
      "state": {
       "description_width": "",
       "font_size": null,
       "text_color": null
      }
     },
     "d70b9caa19fd4f6d8195c05587b91c11": {
      "model_module": "@jupyter-widgets/controls",
      "model_module_version": "2.0.0",
      "model_name": "GridBoxModel",
      "state": {
       "children": [
        "IPY_MODEL_74e25fdefba84706bd1ebd991603102a"
       ],
       "layout": "IPY_MODEL_bd24c4e0c8de4425ac8de6480d45e8a3"
      }
     },
     "ee7708676e36463b962f554e6f2cf4cf": {
      "model_module": "@jupyter-widgets/base",
      "model_module_version": "2.0.0",
      "model_name": "LayoutModel",
      "state": {
       "width": "70px"
      }
     },
     "f058675bd6864ab49a746c8e0f1e34a5": {
      "model_module": "@jupyter-widgets/base",
      "model_module_version": "2.0.0",
      "model_name": "LayoutModel",
      "state": {
       "width": "190px"
      }
     },
     "fc548f5c96624c51a9b08d0c9b2222ca": {
      "model_module": "@jupyter-widgets/controls",
      "model_module_version": "2.0.0",
      "model_name": "HTMLStyleModel",
      "state": {
       "description_width": "",
       "font_size": null,
       "text_color": null
      }
     }
    },
    "version_major": 2,
    "version_minor": 0
   }
  }
 },
 "nbformat": 4,
 "nbformat_minor": 5
}
